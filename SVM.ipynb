{
 "cells": [
  {
   "cell_type": "code",
   "execution_count": 1,
   "metadata": {},
   "outputs": [],
   "source": [
    "import numpy as np\n",
    "import pandas as pd\n",
    "from sklearn.model_selection import train_test_split\n",
    "from sklearn.preprocessing import StandardScaler\n",
    "from sklearn.svm import SVC\n",
    "from sklearn.metrics import accuracy_score, classification_report, confusion_matrix\n",
    "import cv2\n",
    "import os\n",
    "import matplotlib.pyplot as plt"
   ]
  },
  {
   "cell_type": "code",
   "execution_count": 2,
   "metadata": {},
   "outputs": [
    {
     "name": "stdout",
     "output_type": "stream",
     "text": [
      "Training samples: 275\n",
      "Validation samples: 70\n"
     ]
    },
    {
     "data": {
      "text/html": [
       "<div>\n",
       "<style scoped>\n",
       "    .dataframe tbody tr th:only-of-type {\n",
       "        vertical-align: middle;\n",
       "    }\n",
       "\n",
       "    .dataframe tbody tr th {\n",
       "        vertical-align: top;\n",
       "    }\n",
       "\n",
       "    .dataframe thead th {\n",
       "        text-align: right;\n",
       "    }\n",
       "</style>\n",
       "<table border=\"1\" class=\"dataframe\">\n",
       "  <thead>\n",
       "    <tr style=\"text-align: right;\">\n",
       "      <th></th>\n",
       "      <th>image:FILE</th>\n",
       "      <th>category</th>\n",
       "    </tr>\n",
       "  </thead>\n",
       "  <tbody>\n",
       "    <tr>\n",
       "      <th>270</th>\n",
       "      <td>train/dog/scottish_terrier_128_jpg.rf.cb2c8f24...</td>\n",
       "      <td>1</td>\n",
       "    </tr>\n",
       "    <tr>\n",
       "      <th>271</th>\n",
       "      <td>train/dog/samoyed_149_jpg.rf.c6bf305eaa640bc12...</td>\n",
       "      <td>1</td>\n",
       "    </tr>\n",
       "    <tr>\n",
       "      <th>272</th>\n",
       "      <td>train/dog/english_setter_172_jpg.rf.cb3f08fd8d...</td>\n",
       "      <td>1</td>\n",
       "    </tr>\n",
       "    <tr>\n",
       "      <th>273</th>\n",
       "      <td>train/dog/shiba_inu_135_jpg.rf.ca95dbdfbdf5b08...</td>\n",
       "      <td>1</td>\n",
       "    </tr>\n",
       "    <tr>\n",
       "      <th>274</th>\n",
       "      <td>train/dog/wheaten_terrier_141_jpg.rf.ce5fe30e4...</td>\n",
       "      <td>1</td>\n",
       "    </tr>\n",
       "  </tbody>\n",
       "</table>\n",
       "</div>"
      ],
      "text/plain": [
       "                                            image:FILE  category\n",
       "270  train/dog/scottish_terrier_128_jpg.rf.cb2c8f24...         1\n",
       "271  train/dog/samoyed_149_jpg.rf.c6bf305eaa640bc12...         1\n",
       "272  train/dog/english_setter_172_jpg.rf.cb3f08fd8d...         1\n",
       "273  train/dog/shiba_inu_135_jpg.rf.ca95dbdfbdf5b08...         1\n",
       "274  train/dog/wheaten_terrier_141_jpg.rf.ce5fe30e4...         1"
      ]
     },
     "execution_count": 2,
     "metadata": {},
     "output_type": "execute_result"
    }
   ],
   "source": [
    "# Load dataset paths and labels\n",
    "train_df = pd.read_csv('train.csv')\n",
    "val_df = pd.read_csv('val.csv')\n",
    "\n",
    "print(f\"Training samples: {len(train_df)}\")\n",
    "print(f\"Validation samples: {len(val_df)}\")\n",
    "\n",
    "train_df.tail()"
   ]
  },
  {
   "cell_type": "code",
   "execution_count": 3,
   "metadata": {},
   "outputs": [
    {
     "name": "stdout",
     "output_type": "stream",
     "text": [
      "Training data shape: (275, 264, 264, 3)\n",
      "Validation data shape: (70, 264, 264, 3)\n"
     ]
    }
   ],
   "source": [
    "import numpy as np\n",
    "import cv2\n",
    "import os\n",
    "\n",
    "def load_and_preprocess_images(df, img_size=(64, 64)):\n",
    "    images = []\n",
    "    labels = []\n",
    "    for idx, row in df.iterrows():\n",
    "        img_path = row['image:FILE']\n",
    "        label = row['category']\n",
    "        \n",
    "        # Check if file exists\n",
    "        if not os.path.exists(img_path):\n",
    "            print(f\"Image not found: {img_path}\")\n",
    "            continue\n",
    "        \n",
    "        # Load image\n",
    "        img = cv2.imread(img_path)\n",
    "        if img is None:\n",
    "            print(f\"Failed to load image: {img_path}\")\n",
    "            continue\n",
    "        \n",
    "        # Resize image\n",
    "        img = cv2.resize(img, img_size)\n",
    "        \n",
    "        images.append(img)\n",
    "        labels.append(label)\n",
    "        \n",
    "    images = np.array(images)\n",
    "    labels = np.array(labels)\n",
    "    return images, labels\n",
    "\n",
    "# Set image size\n",
    "IMAGE_SIZE = (264, 264)\n",
    "\n",
    "# Load training images\n",
    "X_train, y_train = load_and_preprocess_images(train_df, img_size=IMAGE_SIZE)\n",
    "\n",
    "# Load validation images\n",
    "X_val, y_val = load_and_preprocess_images(val_df, img_size=IMAGE_SIZE)\n",
    "\n",
    "print(f\"Training data shape: {X_train.shape}\")\n",
    "print(f\"Validation data shape: {X_val.shape}\")\n"
   ]
  },
  {
   "cell_type": "code",
   "execution_count": 4,
   "metadata": {},
   "outputs": [],
   "source": [
    "# Normalize pixel values\n",
    "X_train = X_train.astype('float32') / 255.0\n",
    "X_val = X_val.astype('float32') / 255.0"
   ]
  },
  {
   "cell_type": "code",
   "execution_count": 5,
   "metadata": {},
   "outputs": [
    {
     "name": "stdout",
     "output_type": "stream",
     "text": [
      "Flattened training data shape: (275, 209088)\n",
      "Flattened validation data shape: (70, 209088)\n"
     ]
    }
   ],
   "source": [
    "# Flatten images\n",
    "X_train_flat = X_train.reshape(X_train.shape[0], -1)\n",
    "X_val_flat = X_val.reshape(X_val.shape[0], -1)\n",
    "\n",
    "print(f\"Flattened training data shape: {X_train_flat.shape}\")\n",
    "print(f\"Flattened validation data shape: {X_val_flat.shape}\")"
   ]
  },
  {
   "cell_type": "code",
   "execution_count": 6,
   "metadata": {},
   "outputs": [],
   "source": [
    "from sklearn.preprocessing import StandardScaler\n",
    "\n",
    "# Initialize scaler\n",
    "scaler = StandardScaler()\n",
    "\n",
    "# Fit on training data and transform both training and validation data\n",
    "X_train_scaled = scaler.fit_transform(X_train_flat)\n",
    "X_val_scaled = scaler.transform(X_val_flat)"
   ]
  },
  {
   "cell_type": "code",
   "execution_count": 7,
   "metadata": {},
   "outputs": [
    {
     "data": {
      "text/html": [
       "<style>#sk-container-id-1 {color: black;background-color: white;}#sk-container-id-1 pre{padding: 0;}#sk-container-id-1 div.sk-toggleable {background-color: white;}#sk-container-id-1 label.sk-toggleable__label {cursor: pointer;display: block;width: 100%;margin-bottom: 0;padding: 0.3em;box-sizing: border-box;text-align: center;}#sk-container-id-1 label.sk-toggleable__label-arrow:before {content: \"▸\";float: left;margin-right: 0.25em;color: #696969;}#sk-container-id-1 label.sk-toggleable__label-arrow:hover:before {color: black;}#sk-container-id-1 div.sk-estimator:hover label.sk-toggleable__label-arrow:before {color: black;}#sk-container-id-1 div.sk-toggleable__content {max-height: 0;max-width: 0;overflow: hidden;text-align: left;background-color: #f0f8ff;}#sk-container-id-1 div.sk-toggleable__content pre {margin: 0.2em;color: black;border-radius: 0.25em;background-color: #f0f8ff;}#sk-container-id-1 input.sk-toggleable__control:checked~div.sk-toggleable__content {max-height: 200px;max-width: 100%;overflow: auto;}#sk-container-id-1 input.sk-toggleable__control:checked~label.sk-toggleable__label-arrow:before {content: \"▾\";}#sk-container-id-1 div.sk-estimator input.sk-toggleable__control:checked~label.sk-toggleable__label {background-color: #d4ebff;}#sk-container-id-1 div.sk-label input.sk-toggleable__control:checked~label.sk-toggleable__label {background-color: #d4ebff;}#sk-container-id-1 input.sk-hidden--visually {border: 0;clip: rect(1px 1px 1px 1px);clip: rect(1px, 1px, 1px, 1px);height: 1px;margin: -1px;overflow: hidden;padding: 0;position: absolute;width: 1px;}#sk-container-id-1 div.sk-estimator {font-family: monospace;background-color: #f0f8ff;border: 1px dotted black;border-radius: 0.25em;box-sizing: border-box;margin-bottom: 0.5em;}#sk-container-id-1 div.sk-estimator:hover {background-color: #d4ebff;}#sk-container-id-1 div.sk-parallel-item::after {content: \"\";width: 100%;border-bottom: 1px solid gray;flex-grow: 1;}#sk-container-id-1 div.sk-label:hover label.sk-toggleable__label {background-color: #d4ebff;}#sk-container-id-1 div.sk-serial::before {content: \"\";position: absolute;border-left: 1px solid gray;box-sizing: border-box;top: 0;bottom: 0;left: 50%;z-index: 0;}#sk-container-id-1 div.sk-serial {display: flex;flex-direction: column;align-items: center;background-color: white;padding-right: 0.2em;padding-left: 0.2em;position: relative;}#sk-container-id-1 div.sk-item {position: relative;z-index: 1;}#sk-container-id-1 div.sk-parallel {display: flex;align-items: stretch;justify-content: center;background-color: white;position: relative;}#sk-container-id-1 div.sk-item::before, #sk-container-id-1 div.sk-parallel-item::before {content: \"\";position: absolute;border-left: 1px solid gray;box-sizing: border-box;top: 0;bottom: 0;left: 50%;z-index: -1;}#sk-container-id-1 div.sk-parallel-item {display: flex;flex-direction: column;z-index: 1;position: relative;background-color: white;}#sk-container-id-1 div.sk-parallel-item:first-child::after {align-self: flex-end;width: 50%;}#sk-container-id-1 div.sk-parallel-item:last-child::after {align-self: flex-start;width: 50%;}#sk-container-id-1 div.sk-parallel-item:only-child::after {width: 0;}#sk-container-id-1 div.sk-dashed-wrapped {border: 1px dashed gray;margin: 0 0.4em 0.5em 0.4em;box-sizing: border-box;padding-bottom: 0.4em;background-color: white;}#sk-container-id-1 div.sk-label label {font-family: monospace;font-weight: bold;display: inline-block;line-height: 1.2em;}#sk-container-id-1 div.sk-label-container {text-align: center;}#sk-container-id-1 div.sk-container {/* jupyter's `normalize.less` sets `[hidden] { display: none; }` but bootstrap.min.css set `[hidden] { display: none !important; }` so we also need the `!important` here to be able to override the default hidden behavior on the sphinx rendered scikit-learn.org. See: https://github.com/scikit-learn/scikit-learn/issues/21755 */display: inline-block !important;position: relative;}#sk-container-id-1 div.sk-text-repr-fallback {display: none;}</style><div id=\"sk-container-id-1\" class=\"sk-top-container\"><div class=\"sk-text-repr-fallback\"><pre>SVC(C=1, kernel=&#x27;poly&#x27;, random_state=42)</pre><b>In a Jupyter environment, please rerun this cell to show the HTML representation or trust the notebook. <br />On GitHub, the HTML representation is unable to render, please try loading this page with nbviewer.org.</b></div><div class=\"sk-container\" hidden><div class=\"sk-item\"><div class=\"sk-estimator sk-toggleable\"><input class=\"sk-toggleable__control sk-hidden--visually\" id=\"sk-estimator-id-1\" type=\"checkbox\" checked><label for=\"sk-estimator-id-1\" class=\"sk-toggleable__label sk-toggleable__label-arrow\">SVC</label><div class=\"sk-toggleable__content\"><pre>SVC(C=1, kernel=&#x27;poly&#x27;, random_state=42)</pre></div></div></div></div></div>"
      ],
      "text/plain": [
       "SVC(C=1, kernel='poly', random_state=42)"
      ]
     },
     "execution_count": 7,
     "metadata": {},
     "output_type": "execute_result"
    }
   ],
   "source": [
    "from sklearn.svm import SVC\n",
    "\n",
    "# Initialize SVM classifier\n",
    "svm_classifier = SVC(kernel='poly', C=1,gamma='scale', random_state=42)\n",
    "\n",
    "# Train the classifier\n",
    "svm_classifier.fit(X_train_scaled, y_train)"
   ]
  },
  {
   "cell_type": "code",
   "execution_count": 8,
   "metadata": {},
   "outputs": [
    {
     "name": "stdout",
     "output_type": "stream",
     "text": [
      "Validation Accuracy: 0.6714\n",
      "Classification Report:\n",
      "               precision    recall  f1-score   support\n",
      "\n",
      "         Cat       1.00      0.04      0.08        24\n",
      "         Dog       0.67      1.00      0.80        46\n",
      "\n",
      "    accuracy                           0.67        70\n",
      "   macro avg       0.83      0.52      0.44        70\n",
      "weighted avg       0.78      0.67      0.55        70\n",
      "\n"
     ]
    },
    {
     "data": {
      "image/png": "[encoded data removed]",
      "text/plain": [
       "<Figure size 640x480 with 2 Axes>"
      ]
     },
     "metadata": {},
     "output_type": "display_data"
    }
   ],
   "source": [
    "from sklearn.metrics import accuracy_score, classification_report, confusion_matrix\n",
    "import matplotlib.pyplot as plt\n",
    "import seaborn as sns\n",
    "\n",
    "# Make predictions on validation set\n",
    "y_val_pred = svm_classifier.predict(X_val_scaled)\n",
    "\n",
    "# Calculate accuracy\n",
    "accuracy = accuracy_score(y_val, y_val_pred)\n",
    "print(f\"Validation Accuracy: {accuracy:.4f}\")\n",
    "\n",
    "# Classification report\n",
    "report = classification_report(y_val, y_val_pred, target_names=['Cat', 'Dog'])\n",
    "print(\"Classification Report:\\n\", report)\n",
    "\n",
    "# Confusion matrix\n",
    "cm = confusion_matrix(y_val, y_val_pred)\n",
    "sns.heatmap(cm, annot=True, fmt='d', cmap='Blues', xticklabels=['Cat', 'Dog'], yticklabels=['Cat', 'Dog'])\n",
    "plt.xlabel('Predicted')\n",
    "plt.ylabel('Actual')\n",
    "plt.title('Confusion Matrix')\n",
    "plt.show()"
   ]
  },
  {
   "cell_type": "code",
   "execution_count": 9,
   "metadata": {},
   "outputs": [
    {
     "name": "stdout",
     "output_type": "stream",
     "text": [
      "Fitting 5 folds for each of 24 candidates, totalling 120 fits\n"
     ]
    },
    {
     "name": "stdout",
     "output_type": "stream",
     "text": [
      "[CV] END ..................C=0.1, gamma=scale, kernel=linear; total time=   4.4s\n",
      "[CV] END ..................C=0.1, gamma=scale, kernel=linear; total time=   4.8s\n",
      "[CV] END ..................C=0.1, gamma=scale, kernel=linear; total time=   4.3s\n",
      "[CV] END ..................C=0.1, gamma=scale, kernel=linear; total time=   4.4s\n",
      "[CV] END ..................C=0.1, gamma=scale, kernel=linear; total time=   4.4s\n",
      "[CV] END .....................C=0.1, gamma=scale, kernel=rbf; total time=  20.4s\n",
      "[CV] END .....................C=0.1, gamma=scale, kernel=rbf; total time=  21.0s\n",
      "[CV] END .....................C=0.1, gamma=scale, kernel=rbf; total time=  21.8s\n",
      "[CV] END .....................C=0.1, gamma=scale, kernel=rbf; total time=  21.0s\n",
      "[CV] END .....................C=0.1, gamma=scale, kernel=rbf; total time=  21.4s\n",
      "[CV] END ....................C=0.1, gamma=scale, kernel=poly; total time=   4.0s\n",
      "[CV] END ....................C=0.1, gamma=scale, kernel=poly; total time=   4.4s\n",
      "[CV] END ....................C=0.1, gamma=scale, kernel=poly; total time=   4.2s\n",
      "[CV] END ....................C=0.1, gamma=scale, kernel=poly; total time=   4.4s\n",
      "[CV] END ....................C=0.1, gamma=scale, kernel=poly; total time=   4.4s\n",
      "[CV] END .................C=0.1, gamma=scale, kernel=sigmoid; total time=   4.1s\n",
      "[CV] END .................C=0.1, gamma=scale, kernel=sigmoid; total time=   3.8s\n",
      "[CV] END .................C=0.1, gamma=scale, kernel=sigmoid; total time=   4.6s\n",
      "[CV] END .................C=0.1, gamma=scale, kernel=sigmoid; total time=   3.8s\n",
      "[CV] END .................C=0.1, gamma=scale, kernel=sigmoid; total time=   4.1s\n",
      "[CV] END ...................C=0.1, gamma=auto, kernel=linear; total time=   4.5s\n",
      "[CV] END ...................C=0.1, gamma=auto, kernel=linear; total time=   4.4s\n",
      "[CV] END ...................C=0.1, gamma=auto, kernel=linear; total time=   4.4s\n",
      "[CV] END ...................C=0.1, gamma=auto, kernel=linear; total time=   4.5s\n",
      "[CV] END ...................C=0.1, gamma=auto, kernel=linear; total time=   4.6s\n",
      "[CV] END ......................C=0.1, gamma=auto, kernel=rbf; total time=  20.3s\n",
      "[CV] END ......................C=0.1, gamma=auto, kernel=rbf; total time=  22.1s\n",
      "[CV] END ......................C=0.1, gamma=auto, kernel=rbf; total time=  20.4s\n",
      "[CV] END ......................C=0.1, gamma=auto, kernel=rbf; total time=  21.7s\n",
      "[CV] END ......................C=0.1, gamma=auto, kernel=rbf; total time=  20.8s\n",
      "[CV] END .....................C=0.1, gamma=auto, kernel=poly; total time=   3.7s\n",
      "[CV] END .....................C=0.1, gamma=auto, kernel=poly; total time=   3.8s\n",
      "[CV] END .....................C=0.1, gamma=auto, kernel=poly; total time=   3.9s\n",
      "[CV] END .....................C=0.1, gamma=auto, kernel=poly; total time=   4.0s\n",
      "[CV] END .....................C=0.1, gamma=auto, kernel=poly; total time=   4.1s\n",
      "[CV] END ..................C=0.1, gamma=auto, kernel=sigmoid; total time=   4.1s\n",
      "[CV] END ..................C=0.1, gamma=auto, kernel=sigmoid; total time=   4.1s\n",
      "[CV] END ..................C=0.1, gamma=auto, kernel=sigmoid; total time=   4.2s\n",
      "[CV] END ..................C=0.1, gamma=auto, kernel=sigmoid; total time=   4.0s\n",
      "[CV] END ..................C=0.1, gamma=auto, kernel=sigmoid; total time=   4.0s\n",
      "[CV] END ....................C=1, gamma=scale, kernel=linear; total time=   4.9s\n",
      "[CV] END ....................C=1, gamma=scale, kernel=linear; total time=   4.9s\n",
      "[CV] END ....................C=1, gamma=scale, kernel=linear; total time=   5.6s\n",
      "[CV] END ....................C=1, gamma=scale, kernel=linear; total time=   4.8s\n",
      "[CV] END ....................C=1, gamma=scale, kernel=linear; total time=   4.8s\n",
      "[CV] END .......................C=1, gamma=scale, kernel=rbf; total time=  20.9s\n",
      "[CV] END .......................C=1, gamma=scale, kernel=rbf; total time=  21.9s\n",
      "[CV] END .......................C=1, gamma=scale, kernel=rbf; total time=  22.1s\n",
      "[CV] END .......................C=1, gamma=scale, kernel=rbf; total time=  20.4s\n",
      "[CV] END .......................C=1, gamma=scale, kernel=rbf; total time=  21.8s\n",
      "[CV] END ......................C=1, gamma=scale, kernel=poly; total time=   5.3s\n",
      "[CV] END ......................C=1, gamma=scale, kernel=poly; total time=   4.5s\n",
      "[CV] END ......................C=1, gamma=scale, kernel=poly; total time=   4.6s\n",
      "[CV] END ......................C=1, gamma=scale, kernel=poly; total time=   5.2s\n",
      "[CV] END ......................C=1, gamma=scale, kernel=poly; total time=   5.9s\n",
      "[CV] END ...................C=1, gamma=scale, kernel=sigmoid; total time=   5.4s\n",
      "[CV] END ...................C=1, gamma=scale, kernel=sigmoid; total time=   5.5s\n",
      "[CV] END ...................C=1, gamma=scale, kernel=sigmoid; total time=   4.1s\n",
      "[CV] END ...................C=1, gamma=scale, kernel=sigmoid; total time=   3.9s\n",
      "[CV] END ...................C=1, gamma=scale, kernel=sigmoid; total time=   4.1s\n",
      "[CV] END .....................C=1, gamma=auto, kernel=linear; total time=   4.6s\n",
      "[CV] END .....................C=1, gamma=auto, kernel=linear; total time=   4.6s\n",
      "[CV] END .....................C=1, gamma=auto, kernel=linear; total time=   4.6s\n",
      "[CV] END .....................C=1, gamma=auto, kernel=linear; total time=   4.7s\n",
      "[CV] END .....................C=1, gamma=auto, kernel=linear; total time=   4.6s\n",
      "[CV] END ........................C=1, gamma=auto, kernel=rbf; total time=  22.9s\n",
      "[CV] END ........................C=1, gamma=auto, kernel=rbf; total time=  17.5s\n",
      "[CV] END ........................C=1, gamma=auto, kernel=rbf; total time=  22.3s\n",
      "[CV] END ........................C=1, gamma=auto, kernel=rbf; total time=  21.6s\n",
      "[CV] END ........................C=1, gamma=auto, kernel=rbf; total time=  21.4s\n",
      "[CV] END .......................C=1, gamma=auto, kernel=poly; total time=   4.2s\n",
      "[CV] END .......................C=1, gamma=auto, kernel=poly; total time=   4.1s\n",
      "[CV] END .......................C=1, gamma=auto, kernel=poly; total time=   4.3s\n",
      "[CV] END .......................C=1, gamma=auto, kernel=poly; total time=   4.4s\n",
      "[CV] END .......................C=1, gamma=auto, kernel=poly; total time=   4.2s\n",
      "[CV] END ....................C=1, gamma=auto, kernel=sigmoid; total time=   3.7s\n",
      "[CV] END ....................C=1, gamma=auto, kernel=sigmoid; total time=   3.6s\n",
      "[CV] END ....................C=1, gamma=auto, kernel=sigmoid; total time=   3.7s\n",
      "[CV] END ....................C=1, gamma=auto, kernel=sigmoid; total time=   3.7s\n",
      "[CV] END ....................C=1, gamma=auto, kernel=sigmoid; total time=   5.2s\n",
      "[CV] END ...................C=10, gamma=scale, kernel=linear; total time=   4.8s\n",
      "[CV] END ...................C=10, gamma=scale, kernel=linear; total time=   5.1s\n",
      "[CV] END ...................C=10, gamma=scale, kernel=linear; total time=   4.9s\n",
      "[CV] END ...................C=10, gamma=scale, kernel=linear; total time=   6.0s\n",
      "[CV] END ...................C=10, gamma=scale, kernel=linear; total time=   4.9s\n",
      "[CV] END ......................C=10, gamma=scale, kernel=rbf; total time=  23.2s\n",
      "[CV] END ......................C=10, gamma=scale, kernel=rbf; total time=  22.7s\n",
      "[CV] END ......................C=10, gamma=scale, kernel=rbf; total time=  23.1s\n",
      "[CV] END ......................C=10, gamma=scale, kernel=rbf; total time=  22.6s\n",
      "[CV] END ......................C=10, gamma=scale, kernel=rbf; total time=  23.2s\n",
      "[CV] END .....................C=10, gamma=scale, kernel=poly; total time=   4.5s\n",
      "[CV] END .....................C=10, gamma=scale, kernel=poly; total time=   4.5s\n",
      "[CV] END .....................C=10, gamma=scale, kernel=poly; total time=   4.6s\n",
      "[CV] END .....................C=10, gamma=scale, kernel=poly; total time=   4.6s\n",
      "[CV] END .....................C=10, gamma=scale, kernel=poly; total time=   4.6s\n",
      "[CV] END ..................C=10, gamma=scale, kernel=sigmoid; total time=   2.9s\n",
      "[CV] END ..................C=10, gamma=scale, kernel=sigmoid; total time=   3.2s\n",
      "[CV] END ..................C=10, gamma=scale, kernel=sigmoid; total time=   3.1s\n",
      "[CV] END ..................C=10, gamma=scale, kernel=sigmoid; total time=   3.2s\n",
      "[CV] END ..................C=10, gamma=scale, kernel=sigmoid; total time=   3.5s\n",
      "[CV] END ....................C=10, gamma=auto, kernel=linear; total time=   4.4s\n",
      "[CV] END ....................C=10, gamma=auto, kernel=linear; total time=   4.7s\n",
      "[CV] END ....................C=10, gamma=auto, kernel=linear; total time=   5.0s\n",
      "[CV] END ....................C=10, gamma=auto, kernel=linear; total time=   4.9s\n",
      "[CV] END ....................C=10, gamma=auto, kernel=linear; total time=   4.9s\n",
      "[CV] END .......................C=10, gamma=auto, kernel=rbf; total time=  23.3s\n",
      "[CV] END .......................C=10, gamma=auto, kernel=rbf; total time=  22.7s\n",
      "[CV] END .......................C=10, gamma=auto, kernel=rbf; total time=  23.7s\n",
      "[CV] END .......................C=10, gamma=auto, kernel=rbf; total time=  21.2s\n",
      "[CV] END .......................C=10, gamma=auto, kernel=rbf; total time=  22.1s\n",
      "[CV] END ......................C=10, gamma=auto, kernel=poly; total time=   4.3s\n",
      "[CV] END ......................C=10, gamma=auto, kernel=poly; total time=   4.9s\n",
      "[CV] END ......................C=10, gamma=auto, kernel=poly; total time=   4.4s\n",
      "[CV] END ......................C=10, gamma=auto, kernel=poly; total time=   4.6s\n",
      "[CV] END ......................C=10, gamma=auto, kernel=poly; total time=   4.3s\n",
      "[CV] END ...................C=10, gamma=auto, kernel=sigmoid; total time=   2.5s\n",
      "[CV] END ...................C=10, gamma=auto, kernel=sigmoid; total time=   2.9s\n",
      "[CV] END ...................C=10, gamma=auto, kernel=sigmoid; total time=   3.0s\n",
      "[CV] END ...................C=10, gamma=auto, kernel=sigmoid; total time=   5.4s\n",
      "[CV] END ...................C=10, gamma=auto, kernel=sigmoid; total time=   3.4s\n",
      "Best Parameters: {'C': 1, 'gamma': 'auto', 'kernel': 'rbf'}\n",
      "Best Cross-Validation Score: 0.6655\n"
     ]
    }
   ],
   "source": [
    "from sklearn.model_selection import GridSearchCV\n",
    "\n",
    "# Define parameter grid\n",
    "param_grid = {\n",
    "    'C': [ 0.1, 1, 10 ],\n",
    "    'kernel': ['linear', 'rbf' , 'poly', 'sigmoid'],\n",
    "    'gamma': ['scale', 'auto']\n",
    "}\n",
    "\n",
    "# Initialize Grid Search\n",
    "grid_search = GridSearchCV(SVC(random_state=42), param_grid, cv=5, scoring='accuracy', verbose=2)\n",
    "\n",
    "# Fit to training data\n",
    "grid_search.fit(X_train_scaled, y_train)\n",
    "\n",
    "# Best parameters and score\n",
    "print(f\"Best Parameters: {grid_search.best_params_}\")\n",
    "print(f\"Best Cross-Validation Score: {grid_search.best_score_:.4f}\")"
   ]
  },
  {
   "cell_type": "code",
   "execution_count": 10,
   "metadata": {},
   "outputs": [
    {
     "name": "stdout",
     "output_type": "stream",
     "text": [
      "Tuned Validation Accuracy: 0.6429\n",
      "Tuned Classification Report:\n",
      "               precision    recall  f1-score   support\n",
      "\n",
      "         Cat       0.00      0.00      0.00        24\n",
      "         Dog       0.65      0.98      0.78        46\n",
      "\n",
      "    accuracy                           0.64        70\n",
      "   macro avg       0.33      0.49      0.39        70\n",
      "weighted avg       0.43      0.64      0.51        70\n",
      "\n"
     ]
    }
   ],
   "source": [
    "# Predict with best estimator\n",
    "best_svm = grid_search.best_estimator_\n",
    "y_val_pred_best = best_svm.predict(X_val_scaled)\n",
    "\n",
    "# Calculate accuracy\n",
    "best_accuracy = accuracy_score(y_val, y_val_pred_best)\n",
    "print(f\"Tuned Validation Accuracy: {best_accuracy:.4f}\")\n",
    "\n",
    "# Classification report\n",
    "best_report = classification_report(y_val, y_val_pred_best, target_names=['Cat', 'Dog'])\n",
    "print(\"Tuned Classification Report:\\n\", best_report)"
   ]
  },
  {
   "cell_type": "markdown",
   "metadata": {},
   "source": [
    "HOG feature extraction"
   ]
  },
  {
   "cell_type": "code",
   "execution_count": 11,
   "metadata": {},
   "outputs": [
    {
     "data": {
      "text/html": [
       "<style>#sk-container-id-2 {color: black;background-color: white;}#sk-container-id-2 pre{padding: 0;}#sk-container-id-2 div.sk-toggleable {background-color: white;}#sk-container-id-2 label.sk-toggleable__label {cursor: pointer;display: block;width: 100%;margin-bottom: 0;padding: 0.3em;box-sizing: border-box;text-align: center;}#sk-container-id-2 label.sk-toggleable__label-arrow:before {content: \"▸\";float: left;margin-right: 0.25em;color: #696969;}#sk-container-id-2 label.sk-toggleable__label-arrow:hover:before {color: black;}#sk-container-id-2 div.sk-estimator:hover label.sk-toggleable__label-arrow:before {color: black;}#sk-container-id-2 div.sk-toggleable__content {max-height: 0;max-width: 0;overflow: hidden;text-align: left;background-color: #f0f8ff;}#sk-container-id-2 div.sk-toggleable__content pre {margin: 0.2em;color: black;border-radius: 0.25em;background-color: #f0f8ff;}#sk-container-id-2 input.sk-toggleable__control:checked~div.sk-toggleable__content {max-height: 200px;max-width: 100%;overflow: auto;}#sk-container-id-2 input.sk-toggleable__control:checked~label.sk-toggleable__label-arrow:before {content: \"▾\";}#sk-container-id-2 div.sk-estimator input.sk-toggleable__control:checked~label.sk-toggleable__label {background-color: #d4ebff;}#sk-container-id-2 div.sk-label input.sk-toggleable__control:checked~label.sk-toggleable__label {background-color: #d4ebff;}#sk-container-id-2 input.sk-hidden--visually {border: 0;clip: rect(1px 1px 1px 1px);clip: rect(1px, 1px, 1px, 1px);height: 1px;margin: -1px;overflow: hidden;padding: 0;position: absolute;width: 1px;}#sk-container-id-2 div.sk-estimator {font-family: monospace;background-color: #f0f8ff;border: 1px dotted black;border-radius: 0.25em;box-sizing: border-box;margin-bottom: 0.5em;}#sk-container-id-2 div.sk-estimator:hover {background-color: #d4ebff;}#sk-container-id-2 div.sk-parallel-item::after {content: \"\";width: 100%;border-bottom: 1px solid gray;flex-grow: 1;}#sk-container-id-2 div.sk-label:hover label.sk-toggleable__label {background-color: #d4ebff;}#sk-container-id-2 div.sk-serial::before {content: \"\";position: absolute;border-left: 1px solid gray;box-sizing: border-box;top: 0;bottom: 0;left: 50%;z-index: 0;}#sk-container-id-2 div.sk-serial {display: flex;flex-direction: column;align-items: center;background-color: white;padding-right: 0.2em;padding-left: 0.2em;position: relative;}#sk-container-id-2 div.sk-item {position: relative;z-index: 1;}#sk-container-id-2 div.sk-parallel {display: flex;align-items: stretch;justify-content: center;background-color: white;position: relative;}#sk-container-id-2 div.sk-item::before, #sk-container-id-2 div.sk-parallel-item::before {content: \"\";position: absolute;border-left: 1px solid gray;box-sizing: border-box;top: 0;bottom: 0;left: 50%;z-index: -1;}#sk-container-id-2 div.sk-parallel-item {display: flex;flex-direction: column;z-index: 1;position: relative;background-color: white;}#sk-container-id-2 div.sk-parallel-item:first-child::after {align-self: flex-end;width: 50%;}#sk-container-id-2 div.sk-parallel-item:last-child::after {align-self: flex-start;width: 50%;}#sk-container-id-2 div.sk-parallel-item:only-child::after {width: 0;}#sk-container-id-2 div.sk-dashed-wrapped {border: 1px dashed gray;margin: 0 0.4em 0.5em 0.4em;box-sizing: border-box;padding-bottom: 0.4em;background-color: white;}#sk-container-id-2 div.sk-label label {font-family: monospace;font-weight: bold;display: inline-block;line-height: 1.2em;}#sk-container-id-2 div.sk-label-container {text-align: center;}#sk-container-id-2 div.sk-container {/* jupyter's `normalize.less` sets `[hidden] { display: none; }` but bootstrap.min.css set `[hidden] { display: none !important; }` so we also need the `!important` here to be able to override the default hidden behavior on the sphinx rendered scikit-learn.org. See: https://github.com/scikit-learn/scikit-learn/issues/21755 */display: inline-block !important;position: relative;}#sk-container-id-2 div.sk-text-repr-fallback {display: none;}</style><div id=\"sk-container-id-2\" class=\"sk-top-container\"><div class=\"sk-text-repr-fallback\"><pre>SVC(C=0.1, kernel=&#x27;poly&#x27;, random_state=42)</pre><b>In a Jupyter environment, please rerun this cell to show the HTML representation or trust the notebook. <br />On GitHub, the HTML representation is unable to render, please try loading this page with nbviewer.org.</b></div><div class=\"sk-container\" hidden><div class=\"sk-item\"><div class=\"sk-estimator sk-toggleable\"><input class=\"sk-toggleable__control sk-hidden--visually\" id=\"sk-estimator-id-2\" type=\"checkbox\" checked><label for=\"sk-estimator-id-2\" class=\"sk-toggleable__label sk-toggleable__label-arrow\">SVC</label><div class=\"sk-toggleable__content\"><pre>SVC(C=0.1, kernel=&#x27;poly&#x27;, random_state=42)</pre></div></div></div></div></div>"
      ],
      "text/plain": [
       "SVC(C=0.1, kernel='poly', random_state=42)"
      ]
     },
     "execution_count": 11,
     "metadata": {},
     "output_type": "execute_result"
    }
   ],
   "source": [
    "from skimage.color import rgb2gray\n",
    "from skimage.feature import hog\n",
    "\n",
    "def extract_hog_features(images):\n",
    "    hog_features = []\n",
    "    for img in images:\n",
    "        # Convert the image to grayscale\n",
    "        gray_img = rgb2gray(img)  # Convert to 2D (grayscale)\n",
    "        \n",
    "        # Extract HOG features\n",
    "        feature = hog(\n",
    "            gray_img, \n",
    "            orientations=9, \n",
    "            pixels_per_cell=(8, 8), \n",
    "            cells_per_block=(2, 2), \n",
    "            block_norm='L2-Hys',\n",
    "            visualize=False\n",
    "        )\n",
    "        \n",
    "        hog_features.append(feature)\n",
    "    \n",
    "    return np.array(hog_features)\n",
    "\n",
    "# Example of using the function on your training data\n",
    "X_train_hog = extract_hog_features(X_train)\n",
    "X_val_hog = extract_hog_features(X_val)\n",
    "\n",
    "\n",
    "svm_classifier = SVC(kernel='poly', C=0.1, gamma='scale', random_state=42)\n",
    "\n",
    "# Train SVM with HOG features\n",
    "svm_classifier.fit(X_train_hog, y_train)"
   ]
  },
  {
   "cell_type": "code",
   "execution_count": 12,
   "metadata": {},
   "outputs": [
    {
     "name": "stdout",
     "output_type": "stream",
     "text": [
      "Accuracy: 67.14%\n"
     ]
    }
   ],
   "source": [
    "from sklearn.metrics import accuracy_score\n",
    "\n",
    "# Make predictions\n",
    "y_pred = svm_classifier.predict(X_val_hog)\n",
    "\n",
    "# Calculate accuracy\n",
    "accuracy = accuracy_score(y_val, y_pred)\n",
    "print(f\"Accuracy: {accuracy * 100:.2f}%\")"
   ]
  },
  {
   "cell_type": "code",
   "execution_count": 13,
   "metadata": {},
   "outputs": [
    {
     "data": {
      "image/png": "[encoded data removed]",
      "text/plain": [
       "<Figure size 640x480 with 2 Axes>"
      ]
     },
     "metadata": {},
     "output_type": "display_data"
    }
   ],
   "source": [
    "from sklearn.metrics import confusion_matrix\n",
    "import seaborn as sns\n",
    "import matplotlib.pyplot as plt\n",
    "\n",
    "# Generate confusion matrix\n",
    "conf_matrix = confusion_matrix(y_val, y_pred)\n",
    "\n",
    "# Plot confusion matrix\n",
    "sns.heatmap(conf_matrix, annot=True, fmt='d', cmap='Blues', xticklabels=['Cat', 'Dog'], yticklabels=['Cat', 'Dog'])\n",
    "plt.xlabel('Predicted')\n",
    "plt.ylabel('True')\n",
    "plt.title('Confusion Matrix')\n",
    "plt.show()"
   ]
  },
  {
   "cell_type": "markdown",
   "metadata": {},
   "source": [
    "VGG16 feature extraction"
   ]
  },
  {
   "cell_type": "code",
   "execution_count": 14,
   "metadata": {},
   "outputs": [
    {
     "name": "stdout",
     "output_type": "stream",
     "text": [
      "9/9 [==============================] - 29s 3s/step\n",
      "3/3 [==============================] - 7s 2s/step\n"
     ]
    },
    {
     "data": {
      "text/html": [
       "<style>#sk-container-id-3 {color: black;background-color: white;}#sk-container-id-3 pre{padding: 0;}#sk-container-id-3 div.sk-toggleable {background-color: white;}#sk-container-id-3 label.sk-toggleable__label {cursor: pointer;display: block;width: 100%;margin-bottom: 0;padding: 0.3em;box-sizing: border-box;text-align: center;}#sk-container-id-3 label.sk-toggleable__label-arrow:before {content: \"▸\";float: left;margin-right: 0.25em;color: #696969;}#sk-container-id-3 label.sk-toggleable__label-arrow:hover:before {color: black;}#sk-container-id-3 div.sk-estimator:hover label.sk-toggleable__label-arrow:before {color: black;}#sk-container-id-3 div.sk-toggleable__content {max-height: 0;max-width: 0;overflow: hidden;text-align: left;background-color: #f0f8ff;}#sk-container-id-3 div.sk-toggleable__content pre {margin: 0.2em;color: black;border-radius: 0.25em;background-color: #f0f8ff;}#sk-container-id-3 input.sk-toggleable__control:checked~div.sk-toggleable__content {max-height: 200px;max-width: 100%;overflow: auto;}#sk-container-id-3 input.sk-toggleable__control:checked~label.sk-toggleable__label-arrow:before {content: \"▾\";}#sk-container-id-3 div.sk-estimator input.sk-toggleable__control:checked~label.sk-toggleable__label {background-color: #d4ebff;}#sk-container-id-3 div.sk-label input.sk-toggleable__control:checked~label.sk-toggleable__label {background-color: #d4ebff;}#sk-container-id-3 input.sk-hidden--visually {border: 0;clip: rect(1px 1px 1px 1px);clip: rect(1px, 1px, 1px, 1px);height: 1px;margin: -1px;overflow: hidden;padding: 0;position: absolute;width: 1px;}#sk-container-id-3 div.sk-estimator {font-family: monospace;background-color: #f0f8ff;border: 1px dotted black;border-radius: 0.25em;box-sizing: border-box;margin-bottom: 0.5em;}#sk-container-id-3 div.sk-estimator:hover {background-color: #d4ebff;}#sk-container-id-3 div.sk-parallel-item::after {content: \"\";width: 100%;border-bottom: 1px solid gray;flex-grow: 1;}#sk-container-id-3 div.sk-label:hover label.sk-toggleable__label {background-color: #d4ebff;}#sk-container-id-3 div.sk-serial::before {content: \"\";position: absolute;border-left: 1px solid gray;box-sizing: border-box;top: 0;bottom: 0;left: 50%;z-index: 0;}#sk-container-id-3 div.sk-serial {display: flex;flex-direction: column;align-items: center;background-color: white;padding-right: 0.2em;padding-left: 0.2em;position: relative;}#sk-container-id-3 div.sk-item {position: relative;z-index: 1;}#sk-container-id-3 div.sk-parallel {display: flex;align-items: stretch;justify-content: center;background-color: white;position: relative;}#sk-container-id-3 div.sk-item::before, #sk-container-id-3 div.sk-parallel-item::before {content: \"\";position: absolute;border-left: 1px solid gray;box-sizing: border-box;top: 0;bottom: 0;left: 50%;z-index: -1;}#sk-container-id-3 div.sk-parallel-item {display: flex;flex-direction: column;z-index: 1;position: relative;background-color: white;}#sk-container-id-3 div.sk-parallel-item:first-child::after {align-self: flex-end;width: 50%;}#sk-container-id-3 div.sk-parallel-item:last-child::after {align-self: flex-start;width: 50%;}#sk-container-id-3 div.sk-parallel-item:only-child::after {width: 0;}#sk-container-id-3 div.sk-dashed-wrapped {border: 1px dashed gray;margin: 0 0.4em 0.5em 0.4em;box-sizing: border-box;padding-bottom: 0.4em;background-color: white;}#sk-container-id-3 div.sk-label label {font-family: monospace;font-weight: bold;display: inline-block;line-height: 1.2em;}#sk-container-id-3 div.sk-label-container {text-align: center;}#sk-container-id-3 div.sk-container {/* jupyter's `normalize.less` sets `[hidden] { display: none; }` but bootstrap.min.css set `[hidden] { display: none !important; }` so we also need the `!important` here to be able to override the default hidden behavior on the sphinx rendered scikit-learn.org. See: https://github.com/scikit-learn/scikit-learn/issues/21755 */display: inline-block !important;position: relative;}#sk-container-id-3 div.sk-text-repr-fallback {display: none;}</style><div id=\"sk-container-id-3\" class=\"sk-top-container\"><div class=\"sk-text-repr-fallback\"><pre>SVC(C=0.1, kernel=&#x27;poly&#x27;, random_state=42)</pre><b>In a Jupyter environment, please rerun this cell to show the HTML representation or trust the notebook. <br />On GitHub, the HTML representation is unable to render, please try loading this page with nbviewer.org.</b></div><div class=\"sk-container\" hidden><div class=\"sk-item\"><div class=\"sk-estimator sk-toggleable\"><input class=\"sk-toggleable__control sk-hidden--visually\" id=\"sk-estimator-id-3\" type=\"checkbox\" checked><label for=\"sk-estimator-id-3\" class=\"sk-toggleable__label sk-toggleable__label-arrow\">SVC</label><div class=\"sk-toggleable__content\"><pre>SVC(C=0.1, kernel=&#x27;poly&#x27;, random_state=42)</pre></div></div></div></div></div>"
      ],
      "text/plain": [
       "SVC(C=0.1, kernel='poly', random_state=42)"
      ]
     },
     "execution_count": 14,
     "metadata": {},
     "output_type": "execute_result"
    }
   ],
   "source": [
    "import tensorflow as tf\n",
    "from tensorflow.keras.applications import VGG16\n",
    "from tensorflow.keras.applications.vgg16 import preprocess_input\n",
    "from tensorflow.image import resize\n",
    "\n",
    "# Step 1: Resize the images to (224, 224, 3)\n",
    "X_train_resized = tf.image.resize(X_train, (224, 224))\n",
    "X_val_resized = tf.image.resize(X_val, (224, 224))\n",
    "\n",
    "# Step 2: Preprocess the resized images for VGG16\n",
    "X_train_preprocessed = preprocess_input(X_train_resized)\n",
    "X_val_preprocessed = preprocess_input(X_val_resized)\n",
    "\n",
    "# Step 3: Load VGG16 pretrained on ImageNet\n",
    "vgg_model = VGG16(weights='imagenet', include_top=False, input_shape=(224, 224, 3))\n",
    "\n",
    "# Step 4: Extract features using the VGG16 model\n",
    "X_train_vgg = vgg_model.predict(X_train_preprocessed)\n",
    "X_val_vgg = vgg_model.predict(X_val_preprocessed)\n",
    "\n",
    "# Step 5: Flatten the extracted features\n",
    "X_train_vgg_flat = X_train_vgg.reshape(X_train_vgg.shape[0], -1)\n",
    "X_val_vgg_flat = X_val_vgg.reshape(X_val_vgg.shape[0], -1)\n",
    "\n",
    "# Step 6: Train SVM using the extracted and flattened features\n",
    "svm_classifier.fit(X_train_vgg_flat, y_train)"
   ]
  },
  {
   "cell_type": "code",
   "execution_count": 15,
   "metadata": {},
   "outputs": [
    {
     "name": "stdout",
     "output_type": "stream",
     "text": [
      "Validation Accuracy: 65.71%\n"
     ]
    }
   ],
   "source": [
    "from sklearn.metrics import accuracy_score\n",
    "\n",
    "# Make predictions on the validation set\n",
    "y_pred = svm_classifier.predict(X_val_vgg_flat)\n",
    "\n",
    "# Calculate accuracy\n",
    "accuracy = accuracy_score(y_val, y_pred)\n",
    "print(f\"Validation Accuracy: {accuracy * 100:.2f}%\")"
   ]
  }
 ],
 "metadata": {
  "kernelspec": {
   "display_name": "Tenserflow",
   "language": "python",
   "name": "python3"
  },
  "language_info": {
   "codemirror_mode": {
    "name": "ipython",
    "version": 3
   },
   "file_extension": ".py",
   "mimetype": "text/x-python",
   "name": "python",
   "nbconvert_exporter": "python",
   "pygments_lexer": "ipython3",
   "version": "3.9.18"
  }
 },
 "nbformat": 4,
 "nbformat_minor": 2
}
